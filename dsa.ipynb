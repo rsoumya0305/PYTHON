{
  "nbformat": 4,
  "nbformat_minor": 0,
  "metadata": {
    "colab": {
      "provenance": [],
      "authorship_tag": "ABX9TyP/B22NI2ZCyqUJ84wcNzHG",
      "include_colab_link": true
    },
    "kernelspec": {
      "name": "python3",
      "display_name": "Python 3"
    },
    "language_info": {
      "name": "python"
    }
  },
  "cells": [
    {
      "cell_type": "markdown",
      "metadata": {
        "id": "view-in-github",
        "colab_type": "text"
      },
      "source": [
        "<a href=\"https://colab.research.google.com/github/rsoumya0305/PYTHON/blob/main/dsa.ipynb\" target=\"_parent\"><img src=\"https://colab.research.google.com/assets/colab-badge.svg\" alt=\"Open In Colab\"/></a>"
      ]
    },
    {
      "cell_type": "code",
      "execution_count": null,
      "metadata": {
        "colab": {
          "base_uri": "https://localhost:8080/"
        },
        "id": "HHOZW5RSYlK4",
        "outputId": "2931c904-6804-4c0c-bd29-4d3d07071b9f"
      },
      "outputs": [
        {
          "output_type": "stream",
          "name": "stdout",
          "text": [
            "Requirement already satisfied: numpy in /usr/local/lib/python3.11/dist-packages (2.0.2)\n"
          ]
        }
      ],
      "source": [
        "pip install numpy"
      ]
    },
    {
      "cell_type": "code",
      "source": [
        "import numpy as np\n",
        "print(np.__version__)\n"
      ],
      "metadata": {
        "colab": {
          "base_uri": "https://localhost:8080/"
        },
        "id": "LVO3DuLrY4Wk",
        "outputId": "15b0626c-5563-4d7c-8107-ea9b81478ccd"
      },
      "execution_count": null,
      "outputs": [
        {
          "output_type": "stream",
          "name": "stdout",
          "text": [
            "2.0.2\n"
          ]
        }
      ]
    },
    {
      "cell_type": "code",
      "source": [
        "#122\n",
        "import numpy as np\n",
        "a=np.array([1,2,3,4,5])\n",
        "print(a)\n",
        "print(type(a))"
      ],
      "metadata": {
        "colab": {
          "base_uri": "https://localhost:8080/"
        },
        "id": "nBIAgS_IaFx0",
        "outputId": "8f26598f-2b5f-4cfa-a72c-8b2c9f314122"
      },
      "execution_count": null,
      "outputs": [
        {
          "output_type": "stream",
          "name": "stdout",
          "text": [
            "[1 2 3 4 5]\n",
            "<class 'numpy.ndarray'>\n"
          ]
        }
      ]
    },
    {
      "cell_type": "code",
      "source": [
        "#123\n",
        "#dimensional arrays\n",
        "import numpy as np\n",
        "a=np.array(10)\n",
        "print(type(a))\n",
        "print(a)\n",
        "print(a.ndim)\n",
        "\n",
        "a1=np.array([1,2,4])\n",
        "print(type(a1))\n",
        "print(a1)\n",
        "print(a1.ndim)\n",
        "\n",
        "a2=np.array([[1,2],[2,3]])\n",
        "print(type(a2))\n",
        "print(a2)\n",
        "print(a2.ndim)\n",
        "\n",
        "a3=np.array([[[1,2,4],[2,3,54],[1,9,8]]])\n",
        "print(type(a3))\n",
        "print(a3)\n",
        "print(a3.ndim)"
      ],
      "metadata": {
        "colab": {
          "base_uri": "https://localhost:8080/"
        },
        "id": "xMGxZhuAbFtU",
        "outputId": "6ffb9ddf-b04c-4112-9584-bd7b8d83e712"
      },
      "execution_count": null,
      "outputs": [
        {
          "output_type": "stream",
          "name": "stdout",
          "text": [
            "<class 'numpy.ndarray'>\n",
            "10\n",
            "0\n",
            "<class 'numpy.ndarray'>\n",
            "[1 2 4]\n",
            "1\n",
            "<class 'numpy.ndarray'>\n",
            "[[1 2]\n",
            " [2 3]]\n",
            "2\n",
            "<class 'numpy.ndarray'>\n",
            "[[[ 1  2  4]\n",
            "  [ 2  3 54]\n",
            "  [ 1  9  8]]]\n",
            "3\n"
          ]
        }
      ]
    },
    {
      "cell_type": "code",
      "source": [
        "#124 indexing of arrays\n",
        "'''a=np.array([10,20,30,40,50])\n",
        "print(a[3])\n",
        "\n",
        "a=np.array([[10,20,30],[30,40,50],[1,2,3]])\n",
        "print(a[0][0])\n",
        "print(a[0][1])\n",
        "print(a[0][2])\n",
        "print(a[1][0])\n",
        "print(a[1][1])\n",
        "print(a[1][2])\n",
        "print(a[2][0])\n",
        "print(a[2][1])\n",
        "print(a[2][2])'''\n",
        "\n",
        "a=np.array([[[10,20,30],[30,40,50],[1,2,3]],[[1,2,3],[2,3,5],[2,4,5]]])\n",
        "'''print(a[0][0][0])\n",
        "print(a[0][0][1])\n",
        "print(a[0][0][2])\n",
        "print(a[0][1][0])\n",
        "print(a[0][1][1])\n",
        "print(a[0][1][2])\n",
        "print(a[0][2][0])\n",
        "print(a[0][2][1])\n",
        "print(a[0][2][2])'''\n",
        "print(a[1][0][0])\n",
        "print(a[1][0][1])\n",
        "print(a[1][0][2])\n",
        "\n",
        "\n",
        "\n"
      ],
      "metadata": {
        "colab": {
          "base_uri": "https://localhost:8080/"
        },
        "id": "--Ckg8_bd7FL",
        "outputId": "8cfa3efb-43d9-431b-8dbb-5df6332329cd"
      },
      "execution_count": null,
      "outputs": [
        {
          "output_type": "stream",
          "name": "stdout",
          "text": [
            "1\n",
            "2\n",
            "3\n"
          ]
        }
      ]
    },
    {
      "cell_type": "code",
      "source": [
        "#125 write create a matrix 4 rows and 4 columns using numpy give only multiples of 5\n",
        "a=np.array([[[[5,10,15,20],[25,30,35,40],[45,50,55,60],[65,70,75,80]]]])\n",
        "print(a)"
      ],
      "metadata": {
        "colab": {
          "base_uri": "https://localhost:8080/"
        },
        "id": "EQ5S6eocgWTq",
        "outputId": "d4315677-534e-4467-d0aa-ffbb0b2b5479"
      },
      "execution_count": null,
      "outputs": [
        {
          "output_type": "stream",
          "name": "stdout",
          "text": [
            "[[[[ 5 10 15 20]\n",
            "   [25 30 35 40]\n",
            "   [45 50 55 60]\n",
            "   [65 70 75 80]]]]\n"
          ]
        }
      ]
    },
    {
      "cell_type": "code",
      "source": [
        "#125)slicing\n",
        "#array slicing\n",
        "#Array[start:end]\n",
        "#Array[start:end:stepsize]\n",
        "#Array[:end]\n",
        "import numpy as np\n",
        "arr =np.array([1,2,3,4,5,6,7])\n",
        "             #0\n",
        "print(arr[1:5])\n",
        "print(arr[4:])\n",
        "print(arr[:4])\n",
        "print(arr[-3:-1])\n",
        "print(arr[1:5:2])\n",
        "print(arr[::2])\n",
        "\n",
        "#negative slicing\n",
        "import numpy as np\n",
        "arr =np.array([1,2,3,4,5,6,7])\n",
        "print(arr[-3:-1])\n",
        "\n",
        "#2D slicing:\n",
        "import numpy as np\n",
        "arr =np.array([[1,2,3,4,5],[6,7,8,9,10]])\n",
        "print(arr[1,1:4])\n",
        "print(arr[0:2,2])\n",
        "print(arr[0:2,1:4])"
      ],
      "metadata": {
        "colab": {
          "base_uri": "https://localhost:8080/"
        },
        "id": "Moc_weWzgz1C",
        "outputId": "ca34d2d2-6aa1-4770-a1fe-cf35708941aa"
      },
      "execution_count": null,
      "outputs": [
        {
          "output_type": "stream",
          "name": "stdout",
          "text": [
            "[2 3 4 5]\n",
            "[5 6 7]\n",
            "[1 2 3 4]\n",
            "[5 6]\n",
            "[2 4]\n",
            "[1 3 5 7]\n",
            "[5 6]\n",
            "[7 8 9]\n",
            "[3 8]\n",
            "[[2 3 4]\n",
            " [7 8 9]]\n"
          ]
        }
      ]
    },
    {
      "cell_type": "code",
      "source": [
        "126#copy\n",
        "a=np.array([1,2,3,4,5])\n",
        "x=a.copy()\n",
        "a[0]=42\n",
        "print(a)\n",
        "print(x)"
      ],
      "metadata": {
        "colab": {
          "base_uri": "https://localhost:8080/"
        },
        "id": "w7aGwyL2pQlg",
        "outputId": "aa11ec12-db80-4c82-b809-0353d6ee99b4"
      },
      "execution_count": null,
      "outputs": [
        {
          "output_type": "stream",
          "name": "stdout",
          "text": [
            "[42  2  3  4  5]\n",
            "[1 2 3 4 5]\n"
          ]
        }
      ]
    },
    {
      "cell_type": "code",
      "source": [
        "127#view\n",
        "import numpy as np\n",
        "a=np.array([1,2,3,4,5])\n",
        "x=a.view()\n",
        "a[0]=42\n",
        "print(a)\n",
        "print(a)"
      ],
      "metadata": {
        "colab": {
          "base_uri": "https://localhost:8080/"
        },
        "id": "VpQVIuNGqkMg",
        "outputId": "03a87cbc-9490-4383-b3a7-a6693dda0921"
      },
      "execution_count": null,
      "outputs": [
        {
          "output_type": "stream",
          "name": "stdout",
          "text": [
            "[42  2  3  4  5]\n",
            "[42  2  3  4  5]\n"
          ]
        }
      ]
    },
    {
      "cell_type": "code",
      "source": [
        "#128\n",
        "arr=np.array([[1,2,3,4],[5,6,7,8]])\n",
        "print(arr.shape)"
      ],
      "metadata": {
        "colab": {
          "base_uri": "https://localhost:8080/"
        },
        "id": "XKjXyTCtrcRh",
        "outputId": "ca2687fa-2751-4e3d-aa01-b21f57ad1390"
      },
      "execution_count": null,
      "outputs": [
        {
          "output_type": "stream",
          "name": "stdout",
          "text": [
            "(2, 4)\n"
          ]
        }
      ]
    },
    {
      "cell_type": "code",
      "source": [
        "#129 reshaping\n",
        "arr=np.array([1,2,3,4,5,6,7,8,9,10,11,12])\n",
        "newarr=arr.reshape(4,3)\n",
        "print(newarr)"
      ],
      "metadata": {
        "colab": {
          "base_uri": "https://localhost:8080/"
        },
        "id": "7T0_SEfRsA2f",
        "outputId": "6fc3d91f-1b0e-4573-92e4-5167f4486198"
      },
      "execution_count": null,
      "outputs": [
        {
          "output_type": "stream",
          "name": "stdout",
          "text": [
            "[[ 1  2  3]\n",
            " [ 4  5  6]\n",
            " [ 7  8  9]\n",
            " [10 11 12]]\n"
          ]
        }
      ]
    },
    {
      "cell_type": "code",
      "source": [
        "#130\n",
        "arr=np.array([1,2,3,4,5,6,7,8,9,10,11,12])\n",
        "newarr=arr.reshape(2,3,2)\n",
        "print(newarr)"
      ],
      "metadata": {
        "colab": {
          "base_uri": "https://localhost:8080/"
        },
        "id": "7424EJiesWgf",
        "outputId": "71e6781f-a74f-42a6-a675-48b8f35cf9ea"
      },
      "execution_count": null,
      "outputs": [
        {
          "output_type": "stream",
          "name": "stdout",
          "text": [
            "[[[ 1  2]\n",
            "  [ 3  4]\n",
            "  [ 5  6]]\n",
            "\n",
            " [[ 7  8]\n",
            "  [ 9 10]\n",
            "  [11 12]]]\n"
          ]
        }
      ]
    },
    {
      "cell_type": "code",
      "source": [
        "#140 (15 elements of 1d),reshape to 2d with 3ros, 5 col and 5rows,3col,1 element\n",
        "arr=np.array([1,2,3,4,5,6,7,8,9,10,11,12,13,14,15])\n",
        "newarr=arr.reshape(3,5)\n",
        "newarr1=arr.reshape(5,3,1)\n",
        "print(newarr)\n",
        "print(newarr1)\n",
        "print(newarr.ndim)\n",
        "print(newarr1.ndim)\n"
      ],
      "metadata": {
        "colab": {
          "base_uri": "https://localhost:8080/",
          "height": 87
        },
        "id": "ecGxsOLIsksm",
        "outputId": "aa0ba863-e3b2-4a33-b116-a04fbcdd52be"
      },
      "execution_count": null,
      "outputs": [
        {
          "output_type": "stream",
          "name": "stdout",
          "text": [
            "[[ 1  2  3  4  5]\n",
            " [ 6  7  8  9 10]\n",
            " [11 12 13 14 15]]\n"
          ]
        },
        {
          "output_type": "execute_result",
          "data": {
            "text/plain": [
              "'print(newarr1)\\nprint(newarr.ndim)\\nprint(newarr1.ndim)'"
            ],
            "application/vnd.google.colaboratory.intrinsic+json": {
              "type": "string"
            }
          },
          "metadata": {},
          "execution_count": 58
        }
      ]
    },
    {
      "cell_type": "code",
      "source": [
        "#141 iterating into 1d\n",
        "import numpy as np\n",
        "arr=np.array([1,2,3])\n",
        "for x in arr:\n",
        "    print(x)"
      ],
      "metadata": {
        "colab": {
          "base_uri": "https://localhost:8080/"
        },
        "id": "ogJNUOFlu31f",
        "outputId": "9f3cb81f-f565-42a0-bf67-7013ed914db8"
      },
      "execution_count": null,
      "outputs": [
        {
          "output_type": "stream",
          "name": "stdout",
          "text": [
            "1\n",
            "2\n",
            "3\n"
          ]
        }
      ]
    },
    {
      "cell_type": "code",
      "source": [
        "#142 iterating 2d\n",
        "import numpy as np\n",
        "arr=np.array([[1,2,3],[4,5,6]])\n",
        "for x in arr:\n",
        "    print(x)"
      ],
      "metadata": {
        "colab": {
          "base_uri": "https://localhost:8080/"
        },
        "id": "j4n6QHtevDtt",
        "outputId": "0e290c0d-60ae-4ecf-e0bb-4d5d553f535d"
      },
      "execution_count": null,
      "outputs": [
        {
          "output_type": "stream",
          "name": "stdout",
          "text": [
            "[1 2 3]\n",
            "[4 5 6]\n"
          ]
        }
      ]
    },
    {
      "cell_type": "code",
      "source": [
        "#143 iterating into 3d\n",
        "import numpy as np\n",
        "arr=np.array([[[1,2,3],[4,5,6]],[[7,8,9],[10,11,12]]])\n",
        "for x in arr:\n",
        "    print(x)"
      ],
      "metadata": {
        "colab": {
          "base_uri": "https://localhost:8080/"
        },
        "id": "ej_4INlcvNPd",
        "outputId": "7052eb8c-19e5-485a-89a7-8898e6c42d16"
      },
      "execution_count": null,
      "outputs": [
        {
          "output_type": "stream",
          "name": "stdout",
          "text": [
            "[[1 2 3]\n",
            " [4 5 6]]\n",
            "[[ 7  8  9]\n",
            " [10 11 12]]\n"
          ]
        }
      ]
    },
    {
      "cell_type": "code",
      "source": [
        "#144 slicing\n",
        "import numpy as np\n",
        "arr=np.array([[[1,2,3],[4,5,6],[7,8,9],[10,11,12]]])\n",
        "print(arr[0,1:3])\n",
        "print(arr[0,1])"
      ],
      "metadata": {
        "colab": {
          "base_uri": "https://localhost:8080/"
        },
        "id": "CTtKaAu6vbAV",
        "outputId": "2a9a67a6-e01f-45cd-80e2-cce5612cc6fe"
      },
      "execution_count": null,
      "outputs": [
        {
          "output_type": "stream",
          "name": "stdout",
          "text": [
            "[[4 5 6]\n",
            " [7 8 9]]\n",
            "[4 5 6]\n"
          ]
        }
      ]
    },
    {
      "cell_type": "code",
      "source": [
        "#145 joining 2 arrAYS\n",
        "import numpy as np\n",
        "arr1=np.array([[1,2],[3,4]])\n",
        "arr2=np.array([[4,5],[9,6]])\n",
        "arr=np.concatenate((arr1,arr2),axis=0)\n",
        "print(arr)\n",
        "import numpy as np\n",
        "arr1=np.array([[1,2],[3,4]])\n",
        "arr2=np.array([[4,5],[9,6]])\n",
        "arr=np.concatenate((arr1,arr2),axis=1)\n",
        "print(arr)"
      ],
      "metadata": {
        "colab": {
          "base_uri": "https://localhost:8080/"
        },
        "id": "gNi_hu7MwrFO",
        "outputId": "52c6c6c9-1688-4c96-924a-5d1fb6bc771d"
      },
      "execution_count": null,
      "outputs": [
        {
          "output_type": "stream",
          "name": "stdout",
          "text": [
            "[[1 2]\n",
            " [3 4]\n",
            " [4 5]\n",
            " [9 6]]\n",
            "[[1 2 4 5]\n",
            " [3 4 9 6]]\n"
          ]
        }
      ]
    },
    {
      "cell_type": "code",
      "source": [
        "#146\n",
        "import numpy as np\n",
        "revenue=np.array([20000,22000,])"
      ],
      "metadata": {
        "id": "6vPu5EG9wymW"
      },
      "execution_count": null,
      "outputs": []
    },
    {
      "cell_type": "code",
      "source": [
        "#147\n",
        "a=np.array([98.4,98.6,99.1,100.2,98.9,99.5,98.7])\n",
        "print(max(a))\n",
        "print(min(a))"
      ],
      "metadata": {
        "colab": {
          "base_uri": "https://localhost:8080/"
        },
        "id": "kMvDEOah0MnV",
        "outputId": "4334c143-002f-4409-c917-ac1f5f4ed964"
      },
      "execution_count": null,
      "outputs": [
        {
          "output_type": "stream",
          "name": "stdout",
          "text": [
            "100.2\n",
            "98.4\n"
          ]
        }
      ]
    },
    {
      "cell_type": "code",
      "source": [
        "#148\n",
        "a=np.array([120,150,130,160,140,180,170])\n",
        "print(len(a))"
      ],
      "metadata": {
        "colab": {
          "base_uri": "https://localhost:8080/"
        },
        "id": "jTfjulGl0nw_",
        "outputId": "800ef391-170a-4c20-b6e2-0c2eed3eecd5"
      },
      "execution_count": null,
      "outputs": [
        {
          "output_type": "stream",
          "name": "stdout",
          "text": [
            "7\n"
          ]
        }
      ]
    },
    {
      "cell_type": "code",
      "source": [
        "#149\n",
        "a=np.array([45,67,89,76,55])\n",
        "for i in a:\n",
        "    if(i>60):\n",
        "      print(i)\n"
      ],
      "metadata": {
        "colab": {
          "base_uri": "https://localhost:8080/"
        },
        "id": "if-gS1Bm1FNc",
        "outputId": "4131c5fe-ffd2-41f8-d9f4-6664af00bcb9"
      },
      "execution_count": null,
      "outputs": [
        {
          "output_type": "stream",
          "name": "stdout",
          "text": [
            "67\n",
            "89\n",
            "76\n"
          ]
        }
      ]
    },
    {
      "cell_type": "code",
      "source": [
        "#150\n",
        "p=np.array([50,20,30])\n",
        "q=np.array([2,5,3])\n",
        "r=p*q\n",
        "sum=r.sum()o\n",
        "print(sum)"
      ],
      "metadata": {
        "colab": {
          "base_uri": "https://localhost:8080/"
        },
        "id": "MWeyoocR13es",
        "outputId": "598ad51f-eab6-4325-fef9-09469829673d"
      },
      "execution_count": null,
      "outputs": [
        {
          "output_type": "stream",
          "name": "stdout",
          "text": [
            "290\n"
          ]
        }
      ]
    },
    {
      "cell_type": "code",
      "source": [
        "#151\n",
        "r=np.array([4,3,5,4,2,5,3,4,5,1])\n",
        "count=0\n",
        "for i in r:\n",
        "  if(i==5):\n",
        "    count=count+1\n",
        "print(count)"
      ],
      "metadata": {
        "colab": {
          "base_uri": "https://localhost:8080/"
        },
        "id": "Smofa1OR2Sws",
        "outputId": "156e09cc-4591-47ad-b3a4-401d0cfb0d3d"
      },
      "execution_count": null,
      "outputs": [
        {
          "output_type": "stream",
          "name": "stdout",
          "text": [
            "3\n"
          ]
        }
      ]
    },
    {
      "cell_type": "code",
      "source": [
        "#152\n",
        "h=np.array([45,50,48,52,47])\n",
        "for i in h:\n",
        "  print(i+i*10/100)"
      ],
      "metadata": {
        "colab": {
          "base_uri": "https://localhost:8080/"
        },
        "id": "v_kWL2Lk3QiU",
        "outputId": "e198dd23-c4e0-4965-fdc7-4067b9c4f074"
      },
      "execution_count": null,
      "outputs": [
        {
          "output_type": "stream",
          "name": "stdout",
          "text": [
            "49.5\n",
            "55.0\n",
            "52.8\n",
            "57.2\n",
            "51.7\n"
          ]
        }
      ]
    },
    {
      "cell_type": "code",
      "source": [
        "#153\n",
        "g=np.array([1,0,2,1,3])\n",
        "for i in g:\n",
        "  sum=g.sum()\n",
        "print(sum/len(g))"
      ],
      "metadata": {
        "colab": {
          "base_uri": "https://localhost:8080/"
        },
        "id": "LGKE37gC3xzO",
        "outputId": "b5d8f235-9190-4a83-8815-f32e09b3482f"
      },
      "execution_count": null,
      "outputs": [
        {
          "output_type": "stream",
          "name": "stdout",
          "text": [
            "1.4\n"
          ]
        }
      ]
    },
    {
      "cell_type": "code",
      "source": [
        "#154\n",
        "m=np.array([15.2,16.5,14.8,15.9,16.2,15.5])\n",
        "for i in m:\n",
        "  if(i<15):\n",
        "    print(i)\n",
        "print(f)"
      ],
      "metadata": {
        "colab": {
          "base_uri": "https://localhost:8080/",
          "height": 176
        },
        "id": "m5rRBGJF4TUD",
        "outputId": "3536d62c-6738-4692-df84-ef82238fe2e7"
      },
      "execution_count": null,
      "outputs": [
        {
          "output_type": "error",
          "ename": "NameError",
          "evalue": "name 'index' is not defined",
          "traceback": [
            "\u001b[0;31m---------------------------------------------------------------------------\u001b[0m",
            "\u001b[0;31mNameError\u001b[0m                                 Traceback (most recent call last)",
            "\u001b[0;32m/tmp/ipython-input-109-3816807389.py\u001b[0m in \u001b[0;36m<cell line: 0>\u001b[0;34m()\u001b[0m\n\u001b[1;32m      2\u001b[0m \u001b[0;32mfor\u001b[0m \u001b[0mi\u001b[0m \u001b[0;32min\u001b[0m \u001b[0mm\u001b[0m\u001b[0;34m:\u001b[0m\u001b[0;34m\u001b[0m\u001b[0;34m\u001b[0m\u001b[0m\n\u001b[1;32m      3\u001b[0m   \u001b[0;32mif\u001b[0m\u001b[0;34m(\u001b[0m\u001b[0mi\u001b[0m\u001b[0;34m<\u001b[0m\u001b[0;36m15\u001b[0m\u001b[0;34m)\u001b[0m\u001b[0;34m:\u001b[0m\u001b[0;34m\u001b[0m\u001b[0;34m\u001b[0m\u001b[0m\n\u001b[0;32m----> 4\u001b[0;31m     \u001b[0mprint\u001b[0m\u001b[0;34m(\u001b[0m\u001b[0mindex\u001b[0m\u001b[0;34m[\u001b[0m\u001b[0mi\u001b[0m\u001b[0;34m]\u001b[0m\u001b[0;34m)\u001b[0m\u001b[0;34m\u001b[0m\u001b[0;34m\u001b[0m\u001b[0m\n\u001b[0m",
            "\u001b[0;31mNameError\u001b[0m: name 'index' is not defined"
          ]
        }
      ]
    },
    {
      "cell_type": "code",
      "source": [
        "#155 spliting\n",
        "import numpy as np\n",
        "a=np.array([1,2,3,4,5,6])\n",
        "newarr=np.array_split(a,3)\n",
        "print(newarr)"
      ],
      "metadata": {
        "colab": {
          "base_uri": "https://localhost:8080/"
        },
        "id": "VQzJNJRKiHW0",
        "outputId": "3b86c1bb-2223-472b-c705-344962cb37d9"
      },
      "execution_count": null,
      "outputs": [
        {
          "output_type": "stream",
          "name": "stdout",
          "text": [
            "[array([1, 2]), array([3, 4]), array([5, 6])]\n"
          ]
        }
      ]
    },
    {
      "cell_type": "code",
      "source": [
        "#155 2d splitting\n",
        "import numpy as np\n",
        "a=np.array([[1,2],[3,4],[5,6],[7,8],[9,10],[11,12]])\n",
        "arr=np.array_split(a,3)\n",
        "print(a)\n",
        "print(arr)"
      ],
      "metadata": {
        "colab": {
          "base_uri": "https://localhost:8080/"
        },
        "id": "x3PmaxmeieFL",
        "outputId": "6129a392-561b-4823-e498-f9e981ac0594"
      },
      "execution_count": null,
      "outputs": [
        {
          "output_type": "stream",
          "name": "stdout",
          "text": [
            "[[ 1  2]\n",
            " [ 3  4]\n",
            " [ 5  6]\n",
            " [ 7  8]\n",
            " [ 9 10]\n",
            " [11 12]]\n",
            "[array([[1, 2],\n",
            "       [3, 4]]), array([[5, 6],\n",
            "       [7, 8]]), array([[ 9, 10],\n",
            "       [11, 12]])]\n"
          ]
        }
      ]
    },
    {
      "cell_type": "code",
      "source": [
        "#156 searching array\n",
        "import numpy as np\n",
        "a=np.array([1,2,3,4,5,4,4])\n",
        "x=np.where(a==4)\n",
        "print(x)"
      ],
      "metadata": {
        "colab": {
          "base_uri": "https://localhost:8080/"
        },
        "id": "lbu79djpjr9b",
        "outputId": "f2af9ea5-0345-49e6-8e47-27aeb1dc1bdb"
      },
      "execution_count": null,
      "outputs": [
        {
          "output_type": "stream",
          "name": "stdout",
          "text": [
            "(array([3, 5, 6]),)\n"
          ]
        }
      ]
    },
    {
      "cell_type": "code",
      "source": [
        "#157 finding indexes are even\n",
        "import numpy as np\n",
        "a=np.array([1,2,3,4,5,6,7,8])\n",
        "x=np.where(a%2==0)\n",
        "print(x)\n"
      ],
      "metadata": {
        "colab": {
          "base_uri": "https://localhost:8080/"
        },
        "id": "cpK_-Quej7ED",
        "outputId": "b8418e6c-4009-4060-8972-28517ec83b02"
      },
      "execution_count": null,
      "outputs": [
        {
          "output_type": "stream",
          "name": "stdout",
          "text": [
            "(array([1, 3, 5, 7]),)\n"
          ]
        }
      ]
    },
    {
      "cell_type": "code",
      "source": [
        "#158 odd indexex finding\n",
        "import numpy as np\n",
        "a=np.array([1,2,3,4,5,6,7,8])\n",
        "x=np.where(a%2==1)\n",
        "print(x)"
      ],
      "metadata": {
        "colab": {
          "base_uri": "https://localhost:8080/"
        },
        "id": "Z_zjJLh9kQfL",
        "outputId": "2284044d-a751-43a1-fc56-c5fa73adfe2f"
      },
      "execution_count": null,
      "outputs": [
        {
          "output_type": "stream",
          "name": "stdout",
          "text": [
            "(array([0, 2, 4, 6]),)\n"
          ]
        }
      ]
    },
    {
      "cell_type": "code",
      "source": [
        "#159 recursion\n",
        "list=[10,20,30,40,50,60]\n",
        "sum=0\n",
        "def add(list):\n",
        "  for i in list:\n",
        "    if(bool(i)):\n",
        "      sum=sum+i\n",
        "      return sum\n",
        "    return add(list)\n",
        "print(add(list))"
      ],
      "metadata": {
        "colab": {
          "base_uri": "https://localhost:8080/"
        },
        "id": "UyMiZPx6kb96",
        "outputId": "76442546-dd66-440a-e474-833f3a399011"
      },
      "execution_count": null,
      "outputs": [
        {
          "output_type": "stream",
          "name": "stderr",
          "text": [
            "ERROR:root:Internal Python error in the inspect module.\n",
            "Below is the traceback from this internal error.\n",
            "\n",
            "\n",
            "KeyboardInterrupt\n",
            "\n"
          ]
        }
      ]
    },
    {
      "cell_type": "code",
      "source": [
        "#159 recursion\n",
        "\n",
        "\n",
        "def add(n,sum):\n",
        "    if bool(n):\n",
        "      sum=sum+n\n",
        "      return sum\n",
        "    return add(n-1,sum)\n",
        "print((add(5,0)))"
      ],
      "metadata": {
        "colab": {
          "base_uri": "https://localhost:8080/"
        },
        "id": "g_038W6vsMVI",
        "outputId": "25fc85d1-d4dc-4dc6-8f2d-11423b500e6b"
      },
      "execution_count": null,
      "outputs": [
        {
          "output_type": "stream",
          "name": "stdout",
          "text": [
            "5\n"
          ]
        }
      ]
    },
    {
      "cell_type": "code",
      "source": [
        "#160 natural num from 1 to n\n",
        "n=int(input())\n",
        "i=0\n",
        "def nat(n,i):\n",
        "     i=i+1\n",
        "     if n==0:\n",
        "       return\n",
        "     nat(n-1,i)\n",
        "     print(f\"{i} method call\")\n",
        "nat(n,i)"
      ],
      "metadata": {
        "id": "Mlu7gUXWzm8t",
        "colab": {
          "base_uri": "https://localhost:8080/"
        },
        "outputId": "5e400e12-e5d1-4650-afe2-ba5ac6803d6c"
      },
      "execution_count": null,
      "outputs": [
        {
          "output_type": "stream",
          "name": "stdout",
          "text": [
            "5\n",
            "5 method call\n",
            "4 method call\n",
            "3 method call\n",
            "2 method call\n",
            "1 method call\n"
          ]
        }
      ]
    },
    {
      "cell_type": "code",
      "source": [
        "#161\n",
        "n=int(input())\n",
        "def nat(n):\n",
        "  if n==0:\n",
        "    return\n",
        "  nat(n-1)\n",
        "  print(n)\n",
        "nat(n)"
      ],
      "metadata": {
        "colab": {
          "base_uri": "https://localhost:8080/"
        },
        "id": "0X_XkFNl5uOD",
        "outputId": "572ad43c-6f8c-4b54-fc5e-42e5cdc7e4df"
      },
      "execution_count": null,
      "outputs": [
        {
          "output_type": "stream",
          "name": "stdout",
          "text": [
            "5\n",
            "1\n",
            "2\n",
            "3\n",
            "4\n",
            "5\n"
          ]
        }
      ]
    },
    {
      "cell_type": "code",
      "source": [
        "#162\n",
        "n=int(input())\n",
        "def nat(n):\n",
        "   if n==0:\n",
        "      return\n",
        "   nat(n-1)\n",
        "   print(n)\n",
        "nat(n)\n",
        "def nat(n):\n",
        "    if n!=0:\n",
        "       return nat(n-1)\n",
        "nat(n)\n"
      ],
      "metadata": {
        "colab": {
          "base_uri": "https://localhost:8080/"
        },
        "id": "dC8XlgFD6quK",
        "outputId": "3a6673f0-12aa-4b10-f291-85ec70d27dad"
      },
      "execution_count": null,
      "outputs": [
        {
          "output_type": "stream",
          "name": "stdout",
          "text": [
            "5\n",
            "1\n",
            "2\n",
            "3\n",
            "4\n",
            "5\n"
          ]
        }
      ]
    },
    {
      "cell_type": "code",
      "source": [
        "#163 :\n",
        "def print_a_to_z(char='a'):\n",
        "    if char > 'z':\n",
        "        return\n",
        "    print(char)\n",
        "    print_a_to_z(chr(ord(char) + 1))\n",
        "\n",
        "print_a_to_z()\n",
        "\n"
      ],
      "metadata": {
        "colab": {
          "base_uri": "https://localhost:8080/"
        },
        "id": "Mvm4zBt15zfc",
        "outputId": "d400ace0-02d2-4a4f-f92a-c390a032a926"
      },
      "execution_count": null,
      "outputs": [
        {
          "output_type": "stream",
          "name": "stdout",
          "text": [
            "a\n",
            "b\n",
            "c\n",
            "d\n",
            "e\n",
            "f\n",
            "g\n",
            "h\n",
            "i\n",
            "j\n",
            "k\n",
            "l\n",
            "m\n",
            "n\n",
            "o\n",
            "p\n",
            "q\n",
            "r\n",
            "s\n",
            "t\n",
            "u\n",
            "v\n",
            "w\n",
            "x\n",
            "y\n",
            "z\n"
          ]
        }
      ]
    },
    {
      "cell_type": "code",
      "source": [
        "#164\n",
        "def print_z_to_a_newline(char='z'):\n",
        "    if char < 'a':\n",
        "        return\n",
        "    print(char)\n",
        "    print_z_to_a_newline(chr(ord(char) - 1))\n",
        "\n",
        "print_z_to_a_newline()\n"
      ],
      "metadata": {
        "colab": {
          "base_uri": "https://localhost:8080/"
        },
        "id": "xvZBrVTR9JOx",
        "outputId": "e885ec23-38f3-480f-b47a-6e533d1bb5b3"
      },
      "execution_count": null,
      "outputs": [
        {
          "output_type": "stream",
          "name": "stdout",
          "text": [
            "z\n",
            "y\n",
            "x\n",
            "w\n",
            "v\n",
            "u\n",
            "t\n",
            "s\n",
            "r\n",
            "q\n",
            "p\n",
            "o\n",
            "n\n",
            "m\n",
            "l\n",
            "k\n",
            "j\n",
            "i\n",
            "h\n",
            "g\n",
            "f\n",
            "e\n",
            "d\n",
            "c\n",
            "b\n",
            "a\n"
          ]
        }
      ]
    },
    {
      "cell_type": "code",
      "source": [
        "#165 sqaure\n",
        "def sqa(n):\n",
        "  if n==0:\n",
        "      return\n",
        "  print(n*n)\n",
        "  sqa(n-1)\n",
        "sqa(5)"
      ],
      "metadata": {
        "colab": {
          "base_uri": "https://localhost:8080/"
        },
        "id": "63jZCutsCQvH",
        "outputId": "96d4bb50-e1c5-450a-9aa7-15065621287e"
      },
      "execution_count": null,
      "outputs": [
        {
          "output_type": "stream",
          "name": "stdout",
          "text": [
            "25\n",
            "16\n",
            "9\n",
            "4\n",
            "1\n"
          ]
        }
      ]
    },
    {
      "cell_type": "code",
      "source": [
        "#166 factorial of n using recursion\n",
        "def fact(n):\n",
        "  if n==0:\n",
        "    return 1\n",
        "  return n*fact(n-1)\n",
        "print(fact(5))\n"
      ],
      "metadata": {
        "colab": {
          "base_uri": "https://localhost:8080/"
        },
        "id": "7cUffwDdE5CX",
        "outputId": "85f1cb7a-73b4-4503-e8e1-9eca20ed9dc0"
      },
      "execution_count": null,
      "outputs": [
        {
          "output_type": "stream",
          "name": "stdout",
          "text": [
            "120\n"
          ]
        }
      ]
    },
    {
      "cell_type": "code",
      "source": [
        "#167 sum of fact\n",
        "def fact(n):\n",
        "  if n==0:\n",
        "    return 1\n",
        "  return n+fact(n-1)\n",
        "\n",
        "def sum(n):\n",
        "  total=0\n",
        "  for i in range(1,n+1):\n",
        "    total=total+fact(i)\n",
        "  return total\n",
        "print(sum(5))\n",
        "\n",
        "\n"
      ],
      "metadata": {
        "colab": {
          "base_uri": "https://localhost:8080/"
        },
        "id": "_NW_VFGmb4Dx",
        "outputId": "087bce78-0af1-4f40-c0e1-9703b1a8a73d"
      },
      "execution_count": null,
      "outputs": [
        {
          "output_type": "stream",
          "name": "stdout",
          "text": [
            "40\n"
          ]
        }
      ]
    }
  ]
}