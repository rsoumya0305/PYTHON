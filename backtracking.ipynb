{
  "cells": [
    {
      "cell_type": "markdown",
      "metadata": {
        "id": "view-in-github",
        "colab_type": "text"
      },
      "source": [
        "<a href=\"https://colab.research.google.com/github/rsoumya0305/PYTHON/blob/main/backtracking.ipynb\" target=\"_parent\"><img src=\"https://colab.research.google.com/assets/colab-badge.svg\" alt=\"Open In Colab\"/></a>"
      ]
    },
    {
      "cell_type": "code",
      "execution_count": null,
      "metadata": {
        "colab": {
          "base_uri": "https://localhost:8080/"
        },
        "id": "dL6xfaoOIae8",
        "outputId": "c3952ae7-ba2b-4464-cdfa-47badd561d48"
      },
      "outputs": [
        {
          "name": "stdout",
          "output_type": "stream",
          "text": [
            "000\n",
            "with backtracking\n",
            "000\n",
            "001\n",
            "010\n",
            "011\n",
            "100\n",
            "101\n",
            "110\n",
            "111\n"
          ]
        }
      ],
      "source": [
        "#read length of string as input from user and print binary strings of len n\n",
        "#3=000,010,001,100,101,110,011,111\n",
        "def generate_binary_no_bracktrack(n):\n",
        "     result='0'*n\n",
        "     print(result)\n",
        "generate_binary_no_bracktrack(3)\n",
        "print(\"with backtracking\")\n",
        "def generate_binary_bracktrack(n,current=\"\"):\n",
        "    if len(current)==n:\n",
        "        print(current)\n",
        "        return\n",
        "    generate_binary_bracktrack(n,current+'0')\n",
        "    generate_binary_bracktrack(n,current+'1')\n",
        "generate_binary_bracktrack(3)"
      ]
    },
    {
      "cell_type": "code",
      "execution_count": null,
      "metadata": {
        "colab": {
          "base_uri": "https://localhost:8080/"
        },
        "id": "s8yp4BIWMaGG",
        "outputId": "145adf0a-1c2e-4bf4-c34e-86ae058c9330"
      },
      "outputs": [
        {
          "name": "stdout",
          "output_type": "stream",
          "text": [
            "000\n",
            "001\n",
            "010\n",
            "011\n",
            "100\n",
            "101\n",
            "110\n",
            "111\n"
          ]
        }
      ],
      "source": [
        "\n",
        "def generate_binary_bracktrack(n,current=\"\"):\n",
        "    if len(current)==n:\n",
        "        print(current)\n",
        "        return\n",
        "    generate_binary_bracktrack(n,current+'0')\n",
        "    generate_binary_bracktrack(n,current+'1')\n",
        "generate_binary_bracktrack(3)"
      ]
    },
    {
      "cell_type": "code",
      "execution_count": null,
      "metadata": {
        "colab": {
          "base_uri": "https://localhost:8080/"
        },
        "id": "e4ZGEvFwQfb0",
        "outputId": "7935777e-64d6-4ab6-9d55-f2d6e7e77d2f"
      },
      "outputs": [
        {
          "name": "stdout",
          "output_type": "stream",
          "text": [
            "Enter the number of buffets :3\n",
            "Enter the size of the buffet :3\n",
            "Enter the Dish : ab\n",
            "Enter the Dish : bc\n",
            "Enter the Dish : bc\n",
            "Enter the size of the buffet :3\n",
            "Enter the Dish : cd\n",
            "Enter the Dish : cd\n",
            "Enter the Dish : ab\n",
            "Enter the size of the buffet :3\n",
            "Enter the Dish : cd \n",
            "Enter the Dish : gh\n",
            "Enter the Dish : gh\n",
            "cd \n"
          ]
        }
      ],
      "source": [
        "'''Ramu has N dishes of different types arranged in a row: A1, A2, ..., AN\n",
        "where Ai denotes the type of the ith dish.\n",
        "He wants to choose as many dishes as possible from the given list but while satisfying two conditions:\n",
        "He can choose only one type of dish.\n",
        "No two chosen dishes should be adjacent to each other.\n",
        "Ramu wants to know which type of dish he should choose from, so that he can pick the maximum number of dishes.\n",
        "\n",
        "Example:\n",
        "Given N = 9 and A = [1, 2, 2, 1, 2, 1, 1, 1, 1]\n",
        "For type 1, Ramu can choose at most four dishes. One of the ways to choose four of type 1 is A1, A4, A7 and A9.\n",
        "Example:\n",
        "Given N = 9 and A = [1, 2, 2, 1, 2, 1, 1, 1, 1]\n",
        "For type 1, Ramu can choose at most four dishes.\n",
        "One of the ways to choose four type 1 dishes is A1, A4, A7, and A9.\n",
        "For type 2, the maximum he can pick is two dishes — for example, A2 and A5.\n",
        "so in this case ramu should go for which he can pick for more dishes'''\n",
        "t=int(input(\"Enter the number of buffets :\"))\n",
        "for _ in range(t):\n",
        "    n = int(input(\"Enter the size of the buffet :\"))\n",
        "    item =[]\n",
        "    for _ in range(n):\n",
        "        value = input(\"Enter the Dish : \")\n",
        "        item.append(value)\n",
        "    dish_types = set(item)\n",
        "    max_dishes = 0\n",
        "    result = item[0]\n",
        "    for dish in dish_types:\n",
        "        count = 0\n",
        "        i = 0\n",
        "        while i < n:\n",
        "            if item[i] == dish:\n",
        "                count += 1\n",
        "                i += 2\n",
        "            else:\n",
        "                i += 1\n",
        "        if count > max_dishes or (count == max_dishes and dish < result):\n",
        "            max_dishes = count\n",
        "            result = dish\n",
        "print(result)\n",
        "\n"
      ]
    },
    {
      "cell_type": "code",
      "execution_count": null,
      "metadata": {
        "colab": {
          "background_save": true,
          "base_uri": "https://localhost:8080/"
        },
        "id": "4jyXZI78mPA-",
        "outputId": "d9fb43b5-77c0-4218-c932-8625f39a30a6"
      },
      "outputs": [
        {
          "name": "stdout",
          "output_type": "stream",
          "text": [
            "yes\n"
          ]
        }
      ],
      "source": [
        "t=int(input())\n",
        "for i in range(t):\n",
        "  values=input().split()\n",
        "  a=int(values[0])\n",
        "  b=int(values[1])\n",
        "  c=int(values[2])\n",
        "  d=int(values[3])\n",
        "  e=int(values[4])\n",
        "  if a+b+c!=d+e:\n",
        "     print(\"NO\")\n",
        "  elif max(d,e)>max(a+b,b+c,c+a):\n",
        "    print(\"NO\")\n",
        "  else:\n",
        "    print(\"yes\")\n",
        "\n"
      ]
    },
    {
      "cell_type": "code",
      "execution_count": null,
      "metadata": {
        "id": "KCUAWhBSw1f_"
      },
      "outputs": [],
      "source": [
        "n=input()\n",
        "count=0\n",
        "result=''\n",
        "for ch in n:\n",
        " if ch not in result:\n",
        "  result+=ch+str(n.count(ch))\n",
        "print(result)"
      ]
    },
    {
      "cell_type": "code",
      "execution_count": null,
      "metadata": {
        "id": "pzMr2NzMxcVP"
      },
      "outputs": [],
      "source": [
        "n=int(input())\n",
        "count=0\n",
        "while(n>1):\n",
        "  if(n%2==0):\n",
        "      n=n//2\n",
        "  elif(n%3==0):\n",
        "      n=n//3\n",
        "  else:\n",
        "      n=n-1\n",
        "  count=count+1\n",
        "print(count)"
      ]
    },
    {
      "cell_type": "code",
      "execution_count": null,
      "metadata": {
        "id": "FSYAcdYs26UX"
      },
      "outputs": [],
      "source": [
        "#length of longest subsequence\n",
        "s=input()\n",
        "for"
      ]
    }
  ],
  "metadata": {
    "colab": {
      "provenance": [],
      "authorship_tag": "ABX9TyNQnPJRKTL43D/1hW2NpOmD",
      "include_colab_link": true
    },
    "kernelspec": {
      "display_name": "Python 3",
      "name": "python3"
    },
    "language_info": {
      "name": "python"
    }
  },
  "nbformat": 4,
  "nbformat_minor": 0
}